{
 "cells": [
  {
   "cell_type": "markdown",
   "metadata": {},
   "source": [
    "## Step 1. Importing the packages"
   ]
  },
  {
   "cell_type": "code",
   "execution_count": 1,
   "metadata": {},
   "outputs": [],
   "source": [
    "#importing the Numpy library\n",
    "import numpy as np\n",
    "\n",
    "#importing the Pandas Library\n",
    "import pandas as pd\n",
    "\n",
    "#importing sscipy.stats\n",
    "from scipy import stats\n",
    "\n",
    "# Import matplotlib pyplot\n",
    "from matplotlib import pyplot as plt"
   ]
  },
  {
   "cell_type": "markdown",
   "metadata": {},
   "source": [
    "## Step 2. Importing the data"
   ]
  },
  {
   "cell_type": "code",
   "execution_count": 2,
   "metadata": {},
   "outputs": [],
   "source": [
    "# importing the csv file\n",
    "brooklyn_rental_data = pd.read_csv(\"data.csv\")\n",
    "df = pd.DataFrame(data=brooklyn_rental_data)"
   ]
  },
  {
   "cell_type": "code",
   "execution_count": 3,
   "metadata": {},
   "outputs": [
    {
     "name": "stdout",
     "output_type": "stream",
     "text": [
      "Index(['rental_id', 'rent', 'bedrooms', 'bathrooms', 'size_sqft',\n",
      "       'min_to_subway', 'floor', 'building_age_yrs', 'no_fee', 'has_roofdeck',\n",
      "       'has_washer_dryer', 'has_doorman', 'has_elevator', 'has_dishwasher',\n",
      "       'has_patio', 'has_gym', 'neighborhood', 'borough'],\n",
      "      dtype='object')\n"
     ]
    }
   ],
   "source": [
    "# Printing the columns\n",
    "print(df.columns)"
   ]
  },
  {
   "cell_type": "code",
   "execution_count": 4,
   "metadata": {},
   "outputs": [
    {
     "name": "stdout",
     "output_type": "stream",
     "text": [
      "   rental_id  rent  bedrooms  bathrooms  size_sqft  min_to_subway  floor  \\\n",
      "0       2869  3600       3.0          2        900              4    1.0   \n",
      "1       4318  3900       3.0          2       1000              4    9.0   \n",
      "2       6265  2700       2.0          1        900              4    2.0   \n",
      "3         24  4900       1.0          1       1216              6    3.0   \n",
      "4       9481  3900       0.0          1       1100              3    4.0   \n",
      "\n",
      "   building_age_yrs  no_fee  has_roofdeck  has_washer_dryer  has_doorman  \\\n",
      "0                15       1             0                 0            0   \n",
      "1                 8       0             0                 0            0   \n",
      "2                96       0             0                 0            0   \n",
      "3                88       0             0                 0            0   \n",
      "4                85       1             0                 0            0   \n",
      "\n",
      "   has_elevator  has_dishwasher  has_patio  has_gym      neighborhood  \\\n",
      "0             0               0          0        0      Williamsburg   \n",
      "1             1               0          0        0         Greenwood   \n",
      "2             0               0          0        0           Gowanus   \n",
      "3             0               0          0        0  Brooklyn Heights   \n",
      "4             0               0          0        0      Williamsburg   \n",
      "\n",
      "    borough  \n",
      "0  Brooklyn  \n",
      "1  Brooklyn  \n",
      "2  Brooklyn  \n",
      "3  Brooklyn  \n",
      "4  Brooklyn  \n"
     ]
    }
   ],
   "source": [
    "# Previewing the data\n",
    "print(df.head())"
   ]
  },
  {
   "cell_type": "code",
   "execution_count": 5,
   "metadata": {},
   "outputs": [],
   "source": [
    "# Find the rent and square footage\n",
    "# print(np.average(brooklyn_rental_data[\"rent\"]))\n",
    "# print(np.average(brooklyn_rental_data[\"size_sqft\"]), '\\n')\n",
    "\n",
    "# defining avg_rent and avg_sqft variables\n",
    "average_rent = np.average(brooklyn_rental_data[\"rent\"])\n",
    "average_sqft = np.average(brooklyn_rental_data[\"size_sqft\"])\n",
    "\n",
    "\n",
    "# using python mean() instead of numpy.average()\n",
    "# print(brooklyn_rental_data.rent.mean(), '\\n')\n",
    "# print(average_rent / average_sqft)\n",
    "\n",
    "# Defining rent per sqft variable (Rent/Sqft)\n",
    "rent_per_sqft = brooklyn_rental_data[\"rent\"] / brooklyn_rental_data[\"size_sqft\"]"
   ]
  },
  {
   "cell_type": "markdown",
   "metadata": {},
   "source": [
    "## Step 3. Statistics"
   ]
  },
  {
   "cell_type": "code",
   "execution_count": 6,
   "metadata": {},
   "outputs": [
    {
     "name": "stdout",
     "output_type": "stream",
     "text": [
      "Mean:  3.8191222352722454\n",
      "Median:  3.7777777777777777\n",
      "ModeResult(mode=array([3.]), count=array([14]))\n",
      "Variance:  1.306753875560445\n",
      "Std:  1.1431333586071422 \n",
      "\n"
     ]
    }
   ],
   "source": [
    "# Finding the mean\n",
    "print('Mean: ',np.average(rent_per_sqft))\n",
    "# Finding the meadian\n",
    "print('Median: ',np.median(rent_per_sqft))\n",
    "# Finding the Mode value\n",
    "print(stats.mode(rent_per_sqft))\n",
    "# Finding the variance\n",
    "print('Variance: ',np.var(rent_per_sqft))\n",
    "# Finding the standard deviation (sqrt of variance)\n",
    "print('Std: ',np.std(rent_per_sqft),'\\n')"
   ]
  },
  {
   "cell_type": "markdown",
   "metadata": {},
   "source": [
    "## Step 4. Plotting the graph"
   ]
  },
  {
   "cell_type": "code",
   "execution_count": 7,
   "metadata": {},
   "outputs": [
    {
     "data": {
      "image/png": "[encoded data removed]",
      "text/plain": [
       "<Figure size 432x288 with 1 Axes>"
      ]
     },
     "metadata": {
      "needs_background": "light"
     },
     "output_type": "display_data"
    }
   ],
   "source": [
    "# Plotting the histogram\n",
    "plt.hist(rent_per_sqft)\n",
    "plt.title('Rent per Square Foot of Brooklyn apartments')\n",
    "plt.xlabel(\"Rent per square foot ($/ft^2)\")\n",
    "plt.ylabel('Count')\n",
    "plt.show()\n",
    "# print('Plotting histogram of the rent/sqft of apartments in Brooklyn,NY.' + '\\n' + 'The data was aquired from streeteasy.')\n",
    "\n",
    "# print('Conclusion: We used a dataset form Street easy that contained rental information for apartments in New York City. Specifically, we focussed on the rental cost and square footage of apartments in Brooklyn. From that, we calculate the cost per square foot of all Streeteasy apartments in Brooklyn, NY.')"
   ]
  }
 ],
 "metadata": {
  "kernelspec": {
   "display_name": "Python 3",
   "language": "python",
   "name": "python3"
  },
  "language_info": {
   "codemirror_mode": {
    "name": "ipython",
    "version": 3
   },
   "file_extension": ".py",
   "mimetype": "text/x-python",
   "name": "python",
   "nbconvert_exporter": "python",
   "pygments_lexer": "ipython3",
   "version": "3.7.1"
  }
 },
 "nbformat": 4,
 "nbformat_minor": 2
}
